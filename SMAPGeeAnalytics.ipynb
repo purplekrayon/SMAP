{
  "nbformat": 4,
  "nbformat_minor": 0,
  "metadata": {
    "colab": {
      "provenance": [],
      "mount_file_id": "1OUq2CHyCPEbWwtwxPJWWbJmybGB-mGgj",
      "authorship_tag": "ABX9TyM5ikWP6hNs8bLgSKnLBChc",
      "include_colab_link": true
    },
    "kernelspec": {
      "name": "python3",
      "display_name": "Python 3"
    },
    "language_info": {
      "name": "python"
    }
  },
  "cells": [
    {
      "cell_type": "markdown",
      "metadata": {
        "id": "view-in-github",
        "colab_type": "text"
      },
      "source": [
        "<a href=\"https://colab.research.google.com/github/purplekrayon/SMAP/blob/main/SMAPGeeAnalytics.ipynb\" target=\"_parent\"><img src=\"https://colab.research.google.com/assets/colab-badge.svg\" alt=\"Open In Colab\"/></a>"
      ]
    },
    {
      "cell_type": "markdown",
      "source": [
        "1) Authenticate your cloud drive"
      ],
      "metadata": {
        "id": "5YJc3rM292L_"
      }
    },
    {
      "cell_type": "code",
      "source": [
        "from google.colab import auth\n",
        "auth.authenticate_user()"
      ],
      "metadata": {
        "id": "zxovnkC08Dph"
      },
      "execution_count": 1,
      "outputs": []
    },
    {
      "cell_type": "markdown",
      "source": [
        "Download and configure gcloud [only run once]"
      ],
      "metadata": {
        "id": "iu9To7sU8fZU"
      }
    },
    {
      "cell_type": "code",
      "source": [
        "!curl https://sdk.cloud.google.com | bash"
      ],
      "metadata": {
        "id": "OsLFZNGu8Puy"
      },
      "execution_count": null,
      "outputs": []
    },
    {
      "cell_type": "code",
      "source": [
        "!gcloud init"
      ],
      "metadata": {
        "id": "BN0rMp_k8spY"
      },
      "execution_count": null,
      "outputs": []
    },
    {
      "cell_type": "markdown",
      "source": [
        "2) Mount google drive: either using GUI to the left, or this command."
      ],
      "metadata": {
        "id": "nL8BcVYKoLTW"
      }
    },
    {
      "cell_type": "code",
      "source": [
        "from google.colab import drive\n",
        "drive.mount('/content/drive')"
      ],
      "metadata": {
        "id": "PDa15pSBoBRn",
        "colab": {
          "base_uri": "https://localhost:8080/"
        },
        "outputId": "f8f93ba6-3d24-4dff-df90-71cd4c9994b5"
      },
      "execution_count": 2,
      "outputs": [
        {
          "output_type": "stream",
          "name": "stdout",
          "text": [
            "Drive already mounted at /content/drive; to attempt to forcibly remount, call drive.mount(\"/content/drive\", force_remount=True).\n"
          ]
        }
      ]
    },
    {
      "cell_type": "markdown",
      "source": [
        "Full list of analytics files for download are here: gs://eartheinge-stats/providers/nasa_smap/index.txt"
      ],
      "metadata": {
        "id": "p7_gFRnk-OTt"
      }
    },
    {
      "cell_type": "code",
      "execution_count": 3,
      "metadata": {
        "colab": {
          "base_uri": "https://localhost:8080/"
        },
        "id": "pz1P0w1prFl3",
        "outputId": "16285bfb-7e83-45e5-8f66-a573389e4449"
      },
      "outputs": [
        {
          "output_type": "stream",
          "name": "stdout",
          "text": [
            "Copying gs://earthengine-stats/providers/nasa_smap/index.txt...\n",
            "/ [0 files][    0.0 B/ 10.2 KiB]                                                \r/ [1 files][ 10.2 KiB/ 10.2 KiB]                                                \r\n",
            "Operation completed over 1 objects/10.2 KiB.                                     \n"
          ]
        }
      ],
      "source": [
        "!gsutil cp gs://earthengine-stats/providers/nasa_smap/index.txt /content/drive/MyDrive/SMAP_GEE/csvfilelist.txt"
      ]
    },
    {
      "cell_type": "markdown",
      "source": [
        "The file contents are a list of daily .csv files:\n",
        "***\n",
        "earthengine_stats_2023-02-15.csv\\\n",
        "earthengine_stats_2023-02-16.csv\\\n",
        "earthengine_stats_2023-02-17.csv\\\n",
        "earthengine_stats_2023-02-18.csv\\\n",
        "earthengine_stats_2023-02-19.csv\\\n",
        "earthengine_stats_2023-02-20.csv\\\n",
        "...\n",
        "***\n",
        "\n",
        "\n",
        "Each .csv file looks like this:\n",
        "***\n",
        "Interval,Dataset,30-day active users\\\n",
        "2023-01-17/2023-02-15,NASA/SMAP/SPL4SMGP/007,150\\\n",
        "2023-01-17/2023-02-15,NASA/SMAP/SPL3SMP_E/005,108\n",
        "***\n",
        "\n",
        "To read the files, use gsutil. You won't get charged for reading these files. Files are only readable by the google group smap_gee@googlegroups.com\n"
      ],
      "metadata": {
        "id": "TmUfF7NKrHUJ"
      }
    },
    {
      "cell_type": "markdown",
      "source": [
        "3) Download all of the csv files listed in the file"
      ],
      "metadata": {
        "id": "BfD2NcSEpm0x"
      }
    },
    {
      "cell_type": "code",
      "source": [
        "# reads index.txt from google cloud\n",
        "# rstrip removes endline empty space that cause .csv files to end in \"?\"\n",
        "# copies all files in csvfilelist.txt to local folder\n",
        "import os,sys\n",
        "import subprocess\n",
        "env = os.environ.copy()\n",
        "ccfile = open(\"drive/MyDrive/SMAP_GEE/csvfilelist.txt\",\"r\")\n",
        "\n",
        "for line in ccfile:\n",
        "  newfile = line.replace(\"gs://earthengine-stats/providers/nasa_smap/\", \"\").rstrip()\n",
        "  newfile_s = f'/content/drive/MyDrive/SMAP_GEE/CSV_GEE/{newfile}'\n",
        "  cmd = \"gsutil cp -n gs://earthengine-stats/providers/nasa_smap/\" + newfile + \" \" + newfile_s\n",
        "  !{cmd}\n",
        "\n",
        "ccfile.close()\n"
      ],
      "metadata": {
        "id": "E-TdJnkQprX2"
      },
      "execution_count": null,
      "outputs": []
    },
    {
      "cell_type": "markdown",
      "source": [
        "4) read all csv files and reformat data into only 2 output files. L3outstats.txt\n",
        "L4outstats.txt"
      ],
      "metadata": {
        "id": "MGEZxYqOU_tJ"
      }
    },
    {
      "cell_type": "code",
      "source": [
        "import subprocess\n",
        "import re\n",
        "infile = open(\"drive/MyDrive/SMAP_GEE/csvfilelist.txt\",'r' )\n",
        "L3out = open(\"drive/MyDrive/SMAP_GEE/L3outstats.txt\",\"a\")\n",
        "L3out.seek(0) #sets a point at the beginning of the file\n",
        "L3out.truncate() #clears file contents at beginning\n",
        "L4out = open(\"drive/MyDrive/SMAP_GEE/L4outstats.txt\",\"a\")\n",
        "L4out.seek(0) #sets a point at the beginning of the file\n",
        "L4out.truncate() #clears file contents at beginning\n",
        "\n",
        "# read csv files from csvfilelist.txt\n",
        "# need to check if file has lines 2 and 3, if not, skip\n",
        "for file in infile:\n",
        "\tnewfile = file.replace(\"gs://earthengine-stats/providers/nasa_smap/\", \"\").rstrip()\n",
        "\tnewfile_s = f'/content/drive/MyDrive/SMAP_GEE/CSV_GEE/{newfile}'\n",
        "\t# open file, remove extra character at the end and save as geefile\n",
        "\twith open(newfile_s.rstrip()) as geefile:\n",
        "\t\t#create empty list called contentlist\n",
        "\t\tcontentlist = []\n",
        "\t\t# for contents of geefile, add each line to contentlist and remove extra space as end\n",
        "\t\tfor item in geefile:\n",
        "\t\t\tcontentlist.append(item)\n",
        "\t\t\t#geefile = open(file.rstrip(),\"r\")\n",
        "\t\t\t#temptext = geefile.readlines()\n",
        "\t\t\t#store second line in variable, L4\n",
        "\t\t\t#print(contentlist)\n",
        "\n",
        "\t\tlenghtlist = len(contentlist)\n",
        "\t\t#test of the file has valid contents\n",
        "\t\tif lenghtlist == 3:\n",
        "\t\t\tL4 = contentlist[1].strip()\n",
        "\t\t\t# create list of the three strings in each line seperated by ','\n",
        "\t\t\tL4split = re.split(r',|/|;', L4)\n",
        "\t\t\t#print(L4split[0])\n",
        "\t\t\t#print(L4split[2])\n",
        "\t\t\t#print(L4split[2])\n",
        "\t\t\t#print L4 to file\n",
        "\t\t\tL4out.write(L4split[0] + '\\t' + L4split[1] + '\\t' +L4split[6] + '\\n')\n",
        "\n",
        "\t\t\t# store second line in variable, L4\n",
        "\t\t\tL3 =contentlist[2].strip()\n",
        "\t\t\tL3split = re.split(r',|/|;', L3)\n",
        "\t\t\t#print L3 to file\n",
        "\t\t\tL3out.write(L3split[0] + '\\t' + L3split[1] + '\\t' +L3split[6] + '\\n')\n",
        "\t\telse:\n",
        "\t\t\tL4out.write(L4split[0] + '\\tnan\\tnan\\n')\n",
        "\t\t\tL3out.write(L3split[0] + '\\tnan\\tnan\\n')\n",
        "\n",
        "\tgeefile.close()\n",
        "\n",
        "infile.close()\n",
        "L3out.close()\n",
        "L4out.close()"
      ],
      "metadata": {
        "id": "ln5YeoH_1tEM"
      },
      "execution_count": 8,
      "outputs": []
    },
    {
      "cell_type": "markdown",
      "source": [
        "5) Read output text files and plot data"
      ],
      "metadata": {
        "id": "q3Xq4O50VYrd"
      }
    },
    {
      "cell_type": "code",
      "source": [
        "import numpy as np\n",
        "import pandas as pd\n",
        "from matplotlib import pyplot as plt\n",
        "import csv\n",
        "# https://stackoverflow.com/questions/36455083/how-to-plot-and-work-with-nan-values-in-matplotlib\n",
        "#create empty arrays\n",
        "datelist = []\n",
        "valuelist = []\n",
        "\n",
        "# open text files\n",
        "#L3stats = \"drive/MyDrive/SMAP_GEE/L3outstats.txt\"\n",
        "#L4stats = open(\"drive/MyDrive/SMAP_GEE/L4outstats.txt\",\"r\")\n",
        "\n",
        "with open(\"drive/MyDrive/SMAP_GEE/L3outstats.txt\") as inf:\n",
        "    reader = csv.reader(inf, delimiter=\"\\t\")\n",
        "    L3date = list(zip(*reader))[1]\n",
        "\n",
        "print(L3date)\n",
        "\n",
        "with open(\"drive/MyDrive/SMAP_GEE/L3outstats.txt\") as inf:\n",
        "    #reader = csv.reader(inf, delimiter=\"\\t\")\n",
        "    #working on reading in tab data. not working with nan\n",
        "    reader=pd.read_csv(inf, delimiter='\\t', na_values=\"nan\")\n",
        "    L3value = list(zip(*reader))[2]\n",
        "print(L3value)\n",
        "\n",
        "# trying to interpolate over NaN here\n",
        "#L3valuetest=pd.L3value\n",
        "#L3valuetest = L3value.fillna(method='ffill', limit=3)\n",
        "\n",
        "with open(\"drive/MyDrive/SMAP_GEE/L4outstats.txt\") as inf:\n",
        "    reader = csv.reader(inf, delimiter=\"\\t\")\n",
        "    L4value = list(zip(*reader))[2]\n",
        "#print(L4value)\n",
        "\n",
        "y1 = L3value\n",
        "y2 = L4value\n",
        "x = np.arange(len(y1))\n",
        "#x = L3date\n",
        "fig, ax = plt.subplots()\n",
        "ax.plot(x,y1,y2)\n",
        "#plt.plot(x, y1, y2, '-')\n",
        "#plt.plot(y1, y2, '-')\n",
        "#plt.fill_between(x, ys, 195, where=(ys > 195), facecolor='g', alpha=0.6)\n",
        "ax.set_xlabel('Date')\n",
        "ax.set_yticks(np.arange(0, 300, step=20))  # Set label locations.\n",
        "ax.set_ylabel('Number of Unique Users')\n",
        "plt.title(\"Number of unique users within 30-day moving window\")\n",
        "plt.show()\n",
        "\n",
        "\n"
      ],
      "metadata": {
        "id": "QRevbomFrIob",
        "colab": {
          "base_uri": "https://localhost:8080/",
          "height": 527
        },
        "outputId": "0454b82f-e2b3-409f-bf63-b0ab083e65a9"
      },
      "execution_count": 29,
      "outputs": [
        {
          "output_type": "stream",
          "name": "stdout",
          "text": [
            "('2023-02-15', '2023-02-16', '2023-02-17', '2023-02-18', '2023-02-19', '2023-02-20', '2023-02-21', '2023-02-22', '2023-02-23', '2023-02-24', '2023-02-25', '2023-02-26', '2023-02-27', '2023-02-28', '2023-03-01', '2023-03-02', '2023-03-03', '2023-03-04', '2023-03-05', '2023-03-06', '2023-03-07', '2023-03-08', '2023-03-09', '2023-03-10', '2023-03-11', '2023-03-12', '2023-03-13', '2023-03-14', '2023-03-15', '2023-03-16', '2023-03-17', '2023-03-18', '2023-03-19', '2023-03-20', '2023-03-21', '2023-03-22', '2023-03-23', '2023-03-24', '2023-03-25', 'nan', '2023-03-27', '2023-03-28', '2023-03-29', '2023-03-30', '2023-03-31', '2023-04-01', '2023-04-02', '2023-04-03', '2023-04-04', '2023-04-05', '2023-04-06', '2023-04-07', '2023-04-08', '2023-04-09', '2023-04-10', '2023-04-11', '2023-04-12', '2023-04-13', '2023-04-14', '2023-04-15', '2023-04-16', '2023-04-17', '2023-04-18', '2023-04-19', '2023-04-20', '2023-04-21', '2023-04-22', '2023-04-23', '2023-04-24', '2023-04-25', '2023-04-26', '2023-04-27', '2023-04-28', '2023-04-29', '2023-04-30', '2023-05-01', '2023-05-02', '2023-05-03', '2023-05-04', '2023-05-05', '2023-05-06', '2023-05-07', '2023-05-08', '2023-05-09', '2023-05-10', '2023-05-11', '2023-05-12', '2023-05-13', '2023-05-14', '2023-05-15', '2023-05-16', '2023-05-17', '2023-05-18', '2023-05-19', '2023-05-20', '2023-05-21', '2023-05-22', 'nan', '2023-05-24', '2023-05-25', '2023-05-26', '2023-05-27', '2023-05-28', '2023-05-29', '2023-05-30', '2023-05-31', '2023-06-01', '2023-06-02', '2023-06-03', '2023-06-04', 'nan', '2023-06-06', '2023-06-07', '2023-06-08', '2023-06-09', 'nan', '2023-06-11', '2023-06-12', '2023-06-13', '2023-06-14', '2023-06-15', '2023-06-16', '2023-06-17', '2023-06-18', '2023-06-19', '2023-06-20', '2023-06-21', '2023-06-22', '2023-06-23', '2023-06-24', '2023-06-25', '2023-06-26', '2023-06-27', '2023-06-28', '2023-06-29', '2023-06-30', '2023-07-01')\n",
            "('2', '2', '8')\n"
          ]
        },
        {
          "output_type": "display_data",
          "data": {
            "text/plain": [
              "<Figure size 640x480 with 1 Axes>"
            ],
            "image/png": "[encoded data removed]"
          },
          "metadata": {}
        }
      ]
    }
  ]
}